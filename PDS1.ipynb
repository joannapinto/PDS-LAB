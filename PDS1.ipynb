{
 "cells": [
  {
   "cell_type": "code",
   "execution_count": 5,
   "id": "9c420ef1-967f-4452-af29-f820aa8364b3",
   "metadata": {},
   "outputs": [
    {
     "name": "stdout",
     "output_type": "stream",
     "text": [
      "[1.1 2.2 3.3 4.4 5.5]\n",
      "[1.1 2.2 3.3 4.4 5.5]\n"
     ]
    }
   ],
   "source": [
    "#1\n",
    "import numpy as np\n",
    "tup = (1.1, 2.2, 3.3, 4.4, 5.5)\n",
    "lis = [1.1, 2.2, 3.3, 4.4, 5.5]\n",
    "arrt = np.array(tup, dtype=float)\n",
    "arrl = np.array(lis, dtype=float)\n",
    "print(arrt)\n",
    "print(arrl)"
   ]
  },
  {
   "cell_type": "code",
   "execution_count": 4,
   "id": "9d8a2090-1c30-4cd4-990f-a1795ddb3761",
   "metadata": {},
   "outputs": [
    {
     "name": "stdout",
     "output_type": "stream",
     "text": [
      "[0 2 4 6 8]\n",
      "[2 3 5]\n",
      "[2 3 4 5 6]\n"
     ]
    }
   ],
   "source": [
    "#2\n",
    "import numpy as np\n",
    "arr = np.array([0, 1, 2, 3, 4, 5, 6, 7, 8])\n",
    "slic = arr[2:7]\n",
    "ind = arr[[2, 3, 5]]\n",
    "boo = arr % 2 == 0\n",
    "booo = arr[boo]\n",
    "print(booo)\n",
    "print(ind)\n",
    "print(slic)"
   ]
  },
  {
   "cell_type": "code",
   "execution_count": 3,
   "id": "cde5769f-87b8-4b8f-bdf3-860882551b48",
   "metadata": {},
   "outputs": [
    {
     "name": "stdout",
     "output_type": "stream",
     "text": [
      "0\n",
      "8\n",
      "36\n",
      "[ 0  1  3  6 10 15 21 28 36]\n"
     ]
    }
   ],
   "source": [
    "#3\n",
    "import numpy as np\n",
    "arr = np.array([0, 1, 2, 3, 4, 5, 6, 7, 8])\n",
    "min = np.min(arr)\n",
    "max = np.max(arr)\n",
    "suum = np.sum(arr)\n",
    "cum = np.cumsum(arr)\n",
    "print(min)\n",
    "print(max)\n",
    "print(suum)\n",
    "print(cum)\n"
   ]
  },
  {
   "cell_type": "code",
   "execution_count": 6,
   "id": "96f25eed-5969-4cf0-baa1-12abc388d28f",
   "metadata": {},
   "outputs": [
    {
     "name": "stdout",
     "output_type": "stream",
     "text": [
      "2\n",
      "(3, 3)\n",
      "9\n",
      "int32\n"
     ]
    }
   ],
   "source": [
    "#4\n",
    "arr = np.array([[1, 2, 3], [4, 5, 6], [7, 8, 9]])\n",
    "dimm = arr.ndim\n",
    "shap = arr.shape\n",
    "siz = arr.size\n",
    "typ = arr.dtype\n",
    "print(dimm)\n",
    "print(shap)\n",
    "print(siz)\n",
    "print(typ)\n"
   ]
  },
  {
   "cell_type": "code",
   "execution_count": 9,
   "id": "49ac726f-7113-4c86-b586-ec812537571f",
   "metadata": {},
   "outputs": [
    {
     "name": "stdout",
     "output_type": "stream",
     "text": [
      "10\n",
      "10\n"
     ]
    },
    {
     "name": "stderr",
     "output_type": "stream",
     "text": [
      "C:\\Users\\Joanna letica Pinto\\AppData\\Local\\Temp\\ipykernel_14052\\68864417.py:6: FutureWarning: Series.__getitem__ treating keys as positions is deprecated. In a future version, integer keys will always be treated as labels (consistent with DataFrame behavior). To access a value by position, use `ser.iloc[pos]`\n",
      "  print(mydata[0])\n"
     ]
    }
   ],
   "source": [
    "#5\n",
    "import pandas as pd\n",
    "data = {'A': 10, 'B': 20, 'C': 30, 'D': 40}\n",
    "mydata = pd.Series(data)\n",
    "print(mydata['A'])\n",
    "print(mydata[0])\n"
   ]
  },
  {
   "cell_type": "code",
   "execution_count": 10,
   "id": "d86240b1-5a7a-4660-a47b-186ac64b4de8",
   "metadata": {},
   "outputs": [
    {
     "name": "stdout",
     "output_type": "stream",
     "text": [
      "[ 1  3  6 10 15 21]\n",
      "21\n",
      "6\n",
      "1\n"
     ]
    }
   ],
   "source": [
    "#6\n",
    "arr = np.array([1, 2, 3, 4, 5, 6])\n",
    "minn = np.min(arr)\n",
    "maxx = np.max(arr)\n",
    "cumm = np.cumsum(arr)\n",
    "summ = np.sum(arr)\n",
    "print(cumm)\n",
    "print(summ)\n",
    "print(maxx)\n",
    "print(minn)\n"
   ]
  },
  {
   "cell_type": "code",
   "execution_count": 11,
   "id": "78aafa30-c06e-463a-8e69-41b454cf9173",
   "metadata": {},
   "outputs": [
    {
     "name": "stdout",
     "output_type": "stream",
     "text": [
      "[[1 2 3]\n",
      " [4 5 6]\n",
      " [7 8 9]]\n",
      "2\n",
      "0.0\n",
      "15\n",
      "[ 1.61168440e+01 -1.11684397e+00 -9.75918483e-16]\n"
     ]
    }
   ],
   "source": [
    "#7\n",
    "matrix = np.array([[1, 2, 3], [4, 5, 6], [7, 8, 9]])\n",
    "rank = np.linalg.matrix_rank(matrix)\n",
    "deter = np.linalg.det(matrix)\n",
    "trace = np.trace(matrix)\n",
    "eigen = np.linalg.eigvals(matrix)\n",
    "print(matrix)\n",
    "print(rank)\n",
    "print(deter)\n",
    "print(trace)\n",
    "print(eigen)\n"
   ]
  },
  {
   "cell_type": "code",
   "execution_count": 12,
   "id": "2cb6b026-4df7-429a-9252-99c8addd74b6",
   "metadata": {},
   "outputs": [
    {
     "name": "stdout",
     "output_type": "stream",
     "text": [
      "99\n",
      "[[ 99 108]\n",
      " [  0   0]]\n",
      "[[17 23]\n",
      " [39 53]]\n",
      "[[19 22]\n",
      " [43 50]]\n",
      "[[ 7 10]\n",
      " [15 22]]\n",
      "[-18.   13.5]\n"
     ]
    }
   ],
   "source": [
    "#8\n",
    "A = np.array([[1, 2], [3, 4]])\n",
    "B = np.array([[5, 6], [7, 8]])\n",
    "X = np.array([9, 0])\n",
    "Y = np.array([11, 12])\n",
    "dot = np.dot(X, Y)\n",
    "outer = np.outer(X, Y)\n",
    "inner = np.inner(A, B)\n",
    "prod = np.matmul(A, B)\n",
    "exponent = 2\n",
    "matex = np.linalg.matrix_power(A, exponent)\n",
    "linearmatrix = np.linalg.solve(A, X)\n",
    "print(dot)\n",
    "print(outer)\n",
    "print(inner)\n",
    "print(prod)\n",
    "print(matex)\n",
    "print(linearmatrix)\n"
   ]
  },
  {
   "cell_type": "code",
   "execution_count": null,
   "id": "7e8978b9-972c-4069-875f-3c2691127c62",
   "metadata": {},
   "outputs": [],
   "source": []
  }
 ],
 "metadata": {
  "kernelspec": {
   "display_name": "Python 3 (ipykernel)",
   "language": "python",
   "name": "python3"
  },
  "language_info": {
   "codemirror_mode": {
    "name": "ipython",
    "version": 3
   },
   "file_extension": ".py",
   "mimetype": "text/x-python",
   "name": "python",
   "nbconvert_exporter": "python",
   "pygments_lexer": "ipython3",
   "version": "3.12.6"
  }
 },
 "nbformat": 4,
 "nbformat_minor": 5
}
