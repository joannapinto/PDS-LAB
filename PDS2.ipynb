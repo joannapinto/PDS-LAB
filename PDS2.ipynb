{
 "cells": [
  {
   "cell_type": "code",
   "execution_count": null,
   "id": "ae1b4116",
   "metadata": {},
   "outputs": [],
   "source": [
    "#9\n",
    "import numpy as np\n",
    "\n",
    "zeros_array = np.zeros((2, 3))\n",
    "print(\"Zeros Array:\")\n",
    "print(zeros_array)\n",
    "\n",
    "ones_array = np.ones((3, 2))\n",
    "print(\"\\nOnes Array:\")\n",
    "print(ones_array)\n",
    "\n",
    "random_array = np.random.random((3, 3))\n",
    "print(\"\\nRandom Array:\")\n",
    "print(random_array)\n"
   ]
  },
  {
   "cell_type": "code",
   "execution_count": null,
   "id": "0706c601",
   "metadata": {},
   "outputs": [],
   "source": [
    "#10\n",
    "import numpy as np\n",
    "\n",
    "array = np.array([1, 2, 3, 4, 5, 6])\n",
    "reshaped_array = array.reshape((2, 3))\n",
    "print(\"Original Array:\")\n",
    "print(array)\n",
    "\n",
    "print(\"\\nReshaped Array:\")\n",
    "print(reshaped_array)\n"
   ]
  },
  {
   "cell_type": "code",
   "execution_count": null,
   "id": "ce18c517",
   "metadata": {},
   "outputs": [],
   "source": [
    "#11\n",
    "import numpy as np\n",
    "\n",
    "array1 = np.array([1, 2, 3])\n",
    "array2 = np.array([4, 5, 6])\n",
    "\n",
    "addition = array1 + array2\n",
    "subtraction = array1 - array2\n",
    "multiplication = array1 * array2\n",
    "division = array1 / array2\n",
    "\n",
    "print(\"Addition:\", addition)\n",
    "print(\"Subtraction:\", subtraction)\n",
    "print(\"Multiplication:\", multiplication)\n",
    "print(\"Division:\", division)\n"
   ]
  },
  {
   "cell_type": "code",
   "execution_count": null,
   "id": "a92c6d9c",
   "metadata": {},
   "outputs": [],
   "source": [
    "#12\n",
    "import pandas as pd\n",
    "\n",
    "data_dict = {'Name': ['Alice', 'Bob', 'Charlie'], 'Age': [25, 30, 35]}\n",
    "df = pd.DataFrame(data_dict)\n",
    "print(df)\n"
   ]
  },
  {
   "cell_type": "code",
   "execution_count": null,
   "id": "4445dbad",
   "metadata": {},
   "outputs": [],
   "source": [
    "#13\n",
    "import pandas as pd\n",
    "\n",
    "data_dict = {'Name': ['Alice', 'Bob', 'Charlie'], 'Age': [25, 30, 35]}\n",
    "df = pd.DataFrame(data_dict)\n",
    "\n",
    "filtered_df = df[df['Age'] > 30]\n",
    "print(filtered_df)\n"
   ]
  },
  {
   "cell_type": "code",
   "execution_count": null,
   "id": "1ba62549",
   "metadata": {},
   "outputs": [],
   "source": [
    "#14\n",
    "import pandas as pd\n",
    "\n",
    "data_dict = {'Name': ['Alice', 'Bob', 'Charlie'], 'Age': [25, 30, 35]}\n",
    "df = pd.DataFrame(data_dict)\n",
    "\n",
    "df['Salary'] = [50000, 60000, 70000]\n",
    "print(\"After Adding Salary Column:\")\n",
    "print(df)\n",
    "\n",
    "df = df.drop('Salary', axis=1)\n",
    "print(\"\\nAfter Removing Salary Column:\")\n",
    "print(df)\n"
   ]
  },
  {
   "cell_type": "code",
   "execution_count": null,
   "id": "f900edb4",
   "metadata": {},
   "outputs": [],
   "source": [
    "#15\n",
    "import numpy as np\n",
    "\n",
    "matrix = np.array([[1, 2], [3, 4]])\n",
    "transpose = np.transpose(matrix)\n",
    "print(\"Original Matrix:\")\n",
    "print(matrix)\n",
    "\n",
    "print(\"\\nTransposed Matrix:\")\n",
    "print(transpose)\n"
   ]
  },
  {
   "cell_type": "code",
   "execution_count": null,
   "id": "d055170d",
   "metadata": {},
   "outputs": [],
   "source": [
    "#16\n",
    "import numpy as np\n",
    "\n",
    "A = np.array([[3, 1], [1, 2]])\n",
    "B = np.array([9, 8])\n",
    "solution = np.linalg.solve(A, B)\n",
    "\n",
    "print(\"Solution of the Linear Equations:\")\n",
    "print(solution)\n"
   ]
  },
  {
   "cell_type": "code",
   "execution_count": null,
   "id": "12191249",
   "metadata": {},
   "outputs": [],
   "source": [
    "#17\n",
    "import numpy as np\n",
    "\n",
    "matrix = np.array([[1, 2], [3, 4]])\n",
    "inverse_matrix = np.linalg.inv(matrix)\n",
    "\n",
    "print(\"Original Matrix:\")\n",
    "print(matrix)\n",
    "\n",
    "print(\"\\nInverse of the Matrix:\")\n",
    "print(inverse_matrix)\n"
   ]
  },
  {
   "cell_type": "code",
   "execution_count": null,
   "id": "dddb5a0d",
   "metadata": {},
   "outputs": [],
   "source": [
    "#18\n",
    "import numpy as np\n",
    "import pandas as pd\n",
    "\n",
    "array = np.array([[1, 2, 3], [4, 5, 6]])\n",
    "df_from_array = pd.DataFrame(array, columns=['Column1', 'Column2', 'Column3'])\n",
    "\n",
    "print(\"DataFrame from Numpy Array:\")\n",
    "print(df_from_array)\n"
   ]
  }
 ],
 "metadata": {
  "language_info": {
   "name": "python"
  }
 },
 "nbformat": 4,
 "nbformat_minor": 5
}
